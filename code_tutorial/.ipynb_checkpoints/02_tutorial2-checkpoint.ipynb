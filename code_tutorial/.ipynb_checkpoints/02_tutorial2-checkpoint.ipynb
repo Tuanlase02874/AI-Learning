{
 "cells": [
  {
   "cell_type": "markdown",
   "metadata": {},
   "source": [
    "# Python Types\n",
    "\n",
    "\n",
    "Python has the following data types built-in by default, in these categories:\n",
    "\n",
    "- Text Type:\tstr\n",
    "- Numeric Types:\tint, float, complex\n",
    "- Sequence Types:\tlist, tuple, range\n",
    "- Mapping Type:\tdict\n",
    "- Set Types:\tset, frozenset\n",
    "- Boolean Type:\tbool\n",
    "- Binary Types:\tbytes, bytearray, memoryview"
   ]
  },
  {
   "cell_type": "code",
   "execution_count": 8,
   "metadata": {},
   "outputs": [
    {
     "name": "stdout",
     "output_type": "stream",
     "text": [
      "Hello\n"
     ]
    }
   ],
   "source": [
    "print(\"Hello\")"
   ]
  },
  {
   "cell_type": "code",
   "execution_count": 15,
   "metadata": {},
   "outputs": [
    {
     "name": "stdout",
     "output_type": "stream",
     "text": [
      "Hello World\n",
      "H\n",
      "Hell\n",
      "<class 'str'>\n"
     ]
    }
   ],
   "source": [
    "x = \"Hello World\"\n",
    "print(x)\n",
    "print(x[0])\n",
    "print(x[0:4])\n",
    "print(type(x))"
   ]
  },
  {
   "cell_type": "code",
   "execution_count": 16,
   "metadata": {},
   "outputs": [
    {
     "name": "stdout",
     "output_type": "stream",
     "text": [
      "6\n",
      "<class 'int'>\n"
     ]
    }
   ],
   "source": [
    "x = 6\n",
    "print(x)\n",
    "print(type(x))"
   ]
  },
  {
   "cell_type": "code",
   "execution_count": 17,
   "metadata": {},
   "outputs": [
    {
     "name": "stdout",
     "output_type": "stream",
     "text": [
      "20.5\n",
      "<class 'float'>\n"
     ]
    }
   ],
   "source": [
    "x = 20.5\n",
    "print(x)\n",
    "print(type(x))"
   ]
  },
  {
   "cell_type": "code",
   "execution_count": 18,
   "metadata": {},
   "outputs": [
    {
     "name": "stdout",
     "output_type": "stream",
     "text": [
      "(10+20.5j)\n",
      "<class 'complex'>\n"
     ]
    }
   ],
   "source": [
    "x = 10 + 20.5j\n",
    "print(x)\n",
    "print(type(x))"
   ]
  },
  {
   "cell_type": "code",
   "execution_count": 22,
   "metadata": {},
   "outputs": [
    {
     "name": "stdout",
     "output_type": "stream",
     "text": [
      "['apple', 'banana', 'cherry']\n",
      "apple\n",
      "['apple', 'banana']\n",
      "<class 'list'>\n"
     ]
    }
   ],
   "source": [
    "x = [\"apple\", \"banana\", \"cherry\"]\n",
    "print(x)\n",
    "print(x[0])\n",
    "print(x[0:2])\n",
    "print(type(x))"
   ]
  },
  {
   "cell_type": "code",
   "execution_count": 23,
   "metadata": {},
   "outputs": [
    {
     "name": "stdout",
     "output_type": "stream",
     "text": [
      "('apple', 'banana', 'cherry')\n",
      "apple\n",
      "('apple', 'banana')\n",
      "<class 'tuple'>\n"
     ]
    }
   ],
   "source": [
    "x = (\"apple\", \"banana\", \"cherry\")\n",
    "print(x)\n",
    "print(x[0])\n",
    "print(x[0:2])\n",
    "print(type(x))"
   ]
  },
  {
   "cell_type": "code",
   "execution_count": 26,
   "metadata": {},
   "outputs": [
    {
     "name": "stdout",
     "output_type": "stream",
     "text": [
      "range(0, 6)\n",
      "0\n",
      "range(0, 2)\n",
      "<class 'range'>\n"
     ]
    }
   ],
   "source": [
    "x = range(6)\n",
    "print(x)\n",
    "print(x[0])\n",
    "print(x[0:2])\n",
    "print(type(x))"
   ]
  },
  {
   "cell_type": "code",
   "execution_count": 32,
   "metadata": {},
   "outputs": [
    {
     "name": "stdout",
     "output_type": "stream",
     "text": [
      "{'name': 'John', 'age': 36}\n",
      "John\n",
      "<class 'dict'>\n"
     ]
    }
   ],
   "source": [
    "x = {\"name\" : \"John\", \"age\" : 36}\n",
    "print(x)\n",
    "print(x[\"name\"])\n",
    "print(type(x))"
   ]
  },
  {
   "cell_type": "code",
   "execution_count": 30,
   "metadata": {},
   "outputs": [
    {
     "name": "stdout",
     "output_type": "stream",
     "text": [
      "{'banana', 'apple', 'cherry'}\n",
      "<class 'set'>\n"
     ]
    }
   ],
   "source": [
    "x = {\"apple\", \"banana\", \"cherry\", \"cherry\"}\n",
    "print(x)\n",
    "print(type(x))"
   ]
  },
  {
   "cell_type": "code",
   "execution_count": 31,
   "metadata": {},
   "outputs": [
    {
     "name": "stdout",
     "output_type": "stream",
     "text": [
      "frozenset({'banana', 'apple', 'cherry'})\n",
      "<class 'frozenset'>\n"
     ]
    }
   ],
   "source": [
    "x = frozenset({\"apple\", \"banana\", \"cherry\"})\n",
    "print(x)\n",
    "print(type(x))"
   ]
  },
  {
   "cell_type": "code",
   "execution_count": 33,
   "metadata": {},
   "outputs": [
    {
     "name": "stdout",
     "output_type": "stream",
     "text": [
      "True\n",
      "<class 'bool'>\n"
     ]
    }
   ],
   "source": [
    "x = True\n",
    "print(x)\n",
    "print(type(x))"
   ]
  },
  {
   "cell_type": "code",
   "execution_count": 34,
   "metadata": {},
   "outputs": [
    {
     "name": "stdout",
     "output_type": "stream",
     "text": [
      "b'Hello'\n",
      "<class 'bytes'>\n"
     ]
    }
   ],
   "source": [
    "x = b\"Hello\"\n",
    "print(x)\n",
    "print(type(x))"
   ]
  },
  {
   "cell_type": "code",
   "execution_count": 35,
   "metadata": {},
   "outputs": [
    {
     "name": "stdout",
     "output_type": "stream",
     "text": [
      "bytearray(b'\\x00\\x00\\x00\\x00\\x00')\n",
      "<class 'bytearray'>\n"
     ]
    }
   ],
   "source": [
    "x = bytearray(5)\n",
    "print(x)\n",
    "print(type(x))"
   ]
  },
  {
   "cell_type": "code",
   "execution_count": 36,
   "metadata": {},
   "outputs": [
    {
     "name": "stdout",
     "output_type": "stream",
     "text": [
      "<memory at 0x7efe956b5c48>\n",
      "<class 'memoryview'>\n"
     ]
    }
   ],
   "source": [
    "x = memoryview(bytes(5))\n",
    "print(x)\n",
    "print(type(x))"
   ]
  },
  {
   "cell_type": "code",
   "execution_count": null,
   "metadata": {},
   "outputs": [],
   "source": []
  }
 ],
 "metadata": {
  "kernelspec": {
   "display_name": "Python 3",
   "language": "python",
   "name": "python3"
  },
  "language_info": {
   "codemirror_mode": {
    "name": "ipython",
    "version": 3
   },
   "file_extension": ".py",
   "mimetype": "text/x-python",
   "name": "python",
   "nbconvert_exporter": "python",
   "pygments_lexer": "ipython3",
   "version": "3.6.10"
  }
 },
 "nbformat": 4,
 "nbformat_minor": 4
}
